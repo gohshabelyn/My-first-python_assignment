{
 "cells": [
  {
   "cell_type": "code",
   "execution_count": 1,
   "metadata": {},
   "outputs": [
    {
     "name": "stdout",
     "output_type": "stream",
     "text": [
      "The starting annual slary SGD : 50000\n",
      "The percent of salary to be saved , as decimal : 0.5\n",
      "The cost of your dream house SGD : 350000\n",
      "Numbe of months :  41.86\n"
     ]
    }
   ],
   "source": [
    "#Question 1\n",
    "\n",
    "annual_salary = float(input(\"The starting annual slary SGD : \"))\n",
    "percent_saving = float(input(\"The percent of salary to be saved , as decimal : \")) \n",
    "total_cost = float(input(\"The cost of your dream house SGD : \"))\n",
    "percent_down_payment = total_cost * 0.25\n",
    "\n",
    "current_savings = annual_salary*percent_saving/12\n",
    "\n",
    "rate = 0.04\n",
    "monthly_return = current_savings*rate/12\n",
    "\n",
    "total_savings = current_savings + monthly_return\n",
    "\n",
    "num_months = percent_down_payment / total_savings\n",
    "\n",
    "print('Numbe of months : ' ,  round(num_months, 2))"
   ]
  },
  {
   "cell_type": "code",
   "execution_count": 2,
   "metadata": {},
   "outputs": [
    {
     "name": "stdout",
     "output_type": "stream",
     "text": [
      "Hypochondriac\n",
      "Head Cold \n",
      "Measles\n",
      "Flu\n"
     ]
    }
   ],
   "source": [
    "#Question 2\n",
    "\n",
    "def diagnosis(fever=None, stuffy_nose=None, rash=None):\n",
    "    \n",
    "    if fever==False:\n",
    "        if stuffy_nose==False:\n",
    "            print (\"Hypochondriac\")\n",
    "        else:\n",
    "            print (\"Head Cold \" )   \n",
    "         \n",
    "    if fever==True:\n",
    "        if rash==True:\n",
    "            print(\"Measles\")\n",
    "        else:\n",
    "            print(\"Flu\")\n",
    "              \n",
    "diagnosis(fever=False, stuffy_nose=False, rash=None)           \n",
    "diagnosis(fever=False, stuffy_nose=True, rash=None) \n",
    "diagnosis(fever=True, stuffy_nose=None, rash=True)\n",
    "diagnosis(fever=True, stuffy_nose=None, rash=False)       \n"
   ]
  },
  {
   "cell_type": "code",
   "execution_count": 1,
   "metadata": {},
   "outputs": [
    {
     "name": "stdout",
     "output_type": "stream",
     "text": [
      "Enter your list :  3\n",
      "21\n",
      "23\n",
      "25\n"
     ]
    }
   ],
   "source": [
    "list1 = [1,2,3,4,5]\n",
    "list2 = [11,12,13,14,15]\n",
    "list3 = [21,22,23,24,25]\n",
    "\n",
    "selected_list= str(input(\"Enter your list :  \"))\n",
    "\n",
    "if selected_list == 'list1':\n",
    "    for index, element in enumerate(list1):\n",
    "        if index %2==0 :\n",
    "            print(element)\n",
    "elif selected_list == 'list2':\n",
    "    for index, element in enumerate(list2):\n",
    "        if index %2==0 :\n",
    "            print(element)\n",
    "else:\n",
    "    for index, element in enumerate(list3):\n",
    "        if index %2==0 :\n",
    "            print(element)\n",
    "                   \n",
    "  "
   ]
  },
  {
   "cell_type": "code",
   "execution_count": 25,
   "metadata": {},
   "outputs": [
    {
     "name": "stdout",
     "output_type": "stream",
     "text": [
      "Enter your list :  list3\n",
      "[22, 24]\n"
     ]
    }
   ],
   "source": [
    "#B~list 1\n",
    "list1 = [1,2,3,4,5]\n",
    "list2 = [11,12,13,14,15]\n",
    "list3 = [21,22,23,24,25]\n",
    "\n",
    "new_list1=[]\n",
    "new_list2=[]\n",
    "new_list3=[]\n",
    "\n",
    "selected_list= str(input(\"Enter your list :  \"))\n",
    "\n",
    "if selected_list == 'list1':\n",
    "    even_number=list(filter(lambda x:  x%2==0 ,list1))\n",
    "    for i in even_number:\n",
    "        new_list1.append(i)\n",
    "    print(new_list1)\n",
    "        \n",
    "elif selected_list == 'list2':\n",
    "    even_number=list(filter(lambda x:  x%2==0 ,list2))\n",
    "    for i in even_number:\n",
    "        new_list2.append(i)\n",
    "    print(new_list2)        \n",
    "        \n",
    "else:\n",
    "    even_number=list(filter(lambda x:  x%2==0 ,list3))\n",
    "    for i in even_number:\n",
    "        new_list3.append(i)\n",
    "    print(new_list3) \n"
   ]
  },
  {
   "cell_type": "code",
   "execution_count": 18,
   "metadata": {},
   "outputs": [
    {
     "name": "stdout",
     "output_type": "stream",
     "text": [
      "I am being driven !\n"
     ]
    }
   ],
   "source": [
    "#Question 4 (A)\n",
    "\n",
    "#class= Vehicle\n",
    "#__init__ (engine,tires)\n",
    "   #engine defalut=A  /  tires default=4\n",
    "#def metohd~drive print (i am being drive)\n",
    "\n",
    "class Vehicle():\n",
    "    \n",
    "    def __init__(self ,engine='A' , tires=4):\n",
    "        self.engine = engine\n",
    "        self.tires = tires\n",
    "        \n",
    "    def drive(self):\n",
    "         print('I am being driven !')  \n",
    "    \n",
    "        \n",
    "v1 = Vehicle()\n",
    "\n",
    "v1.drive()\n",
    "         \n",
    "   \n"
   ]
  },
  {
   "cell_type": "code",
   "execution_count": 19,
   "metadata": {},
   "outputs": [
    {
     "name": "stdout",
     "output_type": "stream",
     "text": [
      "Mike B\n",
      "Peter C\n",
      "I am being driven !\n",
      "I can seat 2 people !\n",
      "Person 1 : Mike ,Person 2 : Peter\n"
     ]
    },
    {
     "data": {
      "text/plain": [
       "'Person 1 : Mike ,Person 2 : Peter'"
      ]
     },
     "execution_count": 19,
     "metadata": {},
     "output_type": "execute_result"
    }
   ],
   "source": [
    "#(B)\n",
    "\n",
    "#child class ~ Motorbike\n",
    "#override Vehicle with 3 parameters ~name , engine, tires=2\n",
    "#method~seats ~print ' i can seat 2 people !'\n",
    "#special method~add (__add__) oprator +, 2 people names to print 'person1 : name , person2 :'\n",
    "\n",
    "class Motorbike(Vehicle):\n",
    "    def __init__(self, name=None, engine=None, tires=2):\n",
    "        self.name = name\n",
    "        self.engine = engine\n",
    "        self.tires = tires\n",
    "    \n",
    "    def seats(self):\n",
    "        print ('I can seat 2 people !')\n",
    "        \n",
    "    def __add__(self, other):\n",
    "        return self.name + other.name\n",
    "\n",
    "v2 = Motorbike('Mike', 'B')\n",
    "print(v2.name, v2.engine)\n",
    "\n",
    "v3 = Motorbike('Peter' , 'C')\n",
    "print(v3.name , v3.engine)\n",
    "\n",
    "v2 =Motorbike()\n",
    "v2.drive()\n",
    "v2.seats()\n",
    "\n",
    "print('Person 1 : Mike ,' +  \"Person 2 : Peter\")\n",
    "'Person 1 : Mike ,' +  \"Person 2 : Peter\""
   ]
  },
  {
   "cell_type": "code",
   "execution_count": 20,
   "metadata": {},
   "outputs": [
    {
     "name": "stdout",
     "output_type": "stream",
     "text": [
      "This is a sedan.\n"
     ]
    }
   ],
   "source": [
    "#Bonus Queestion_____\n",
    "\n",
    "def decorator(message):\n",
    "    \n",
    "    def wrapper():\n",
    "        print(message)\n",
    "    return wrapper\n",
    "    \n",
    "vehicle_func = decorator('This is a sedan.')\n",
    "vehicle_func()   \n",
    "    \n",
    "    "
   ]
  },
  {
   "cell_type": "code",
   "execution_count": 21,
   "metadata": {},
   "outputs": [
    {
     "name": "stdout",
     "output_type": "stream",
     "text": [
      "This is a sedan \n"
     ]
    }
   ],
   "source": [
    "def decorator(func):\n",
    "    \n",
    "    def wrapper(*args , **kwargs):\n",
    "        func (*args , **kwargs)\n",
    "    return wrapper\n",
    "\n",
    "@decorator\n",
    "def vehicle(string):\n",
    "    print(string)\n",
    "vehicle(\"This is a sedan \")"
   ]
  },
  {
   "cell_type": "code",
   "execution_count": 22,
   "metadata": {},
   "outputs": [
    {
     "name": "stdout",
     "output_type": "stream",
     "text": [
      " I am a seat.\n"
     ]
    }
   ],
   "source": [
    "class Sedan (Vehicle):\n",
    "    \n",
    "    def seats(self):\n",
    "        print(' I am a seat.')\n",
    "\n",
    "v4 = Sedan()\n",
    "v4.seats()"
   ]
  },
  {
   "cell_type": "code",
   "execution_count": 23,
   "metadata": {},
   "outputs": [
    {
     "name": "stdout",
     "output_type": "stream",
     "text": [
      "This is a sedan.\n",
      "I am a seat.\n"
     ]
    }
   ],
   "source": [
    "def decorator(func):\n",
    "    \n",
    "    def wrapper(x):\n",
    "        print('This is a sedan.')\n",
    "        func(x)\n",
    "    return wrapper\n",
    "\n",
    "@decorator\n",
    "def seats(n):\n",
    "    print(n)\n",
    "    \n",
    "seats( 'I am a seat.')\n",
    "    \n",
    "\n",
    "\n",
    "\n"
   ]
  },
  {
   "cell_type": "code",
   "execution_count": null,
   "metadata": {},
   "outputs": [],
   "source": []
  },
  {
   "cell_type": "code",
   "execution_count": null,
   "metadata": {},
   "outputs": [],
   "source": []
  }
 ],
 "metadata": {
  "kernelspec": {
   "display_name": "Python 3",
   "language": "python",
   "name": "python3"
  },
  "language_info": {
   "codemirror_mode": {
    "name": "ipython",
    "version": 3
   },
   "file_extension": ".py",
   "mimetype": "text/x-python",
   "name": "python",
   "nbconvert_exporter": "python",
   "pygments_lexer": "ipython3",
   "version": "3.7.6"
  }
 },
 "nbformat": 4,
 "nbformat_minor": 4
}
